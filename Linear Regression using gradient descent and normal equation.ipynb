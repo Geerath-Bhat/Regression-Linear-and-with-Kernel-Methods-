{
 "cells": [
  {
   "cell_type": "markdown",
   "id": "ead5eb64",
   "metadata": {},
   "source": [
    "# Importing modules"
   ]
  },
  {
   "cell_type": "code",
   "execution_count": 1,
   "id": "1380f98f",
   "metadata": {},
   "outputs": [],
   "source": [
    "import numpy as np\n",
    "from scipy import stats\n",
    "import matplotlib.pyplot as plt"
   ]
  },
  {
   "cell_type": "markdown",
   "id": "60303b2e",
   "metadata": {},
   "source": [
    "# Question 1"
   ]
  },
  {
   "cell_type": "markdown",
   "id": "1eea33e4",
   "metadata": {},
   "source": [
    "# Loading train and test Datasets"
   ]
  },
  {
   "cell_type": "code",
   "execution_count": 2,
   "id": "bb49888c",
   "metadata": {},
   "outputs": [],
   "source": [
    "# Skip the first skiprows lines, including comments\n",
    "\n",
    "# Load the training data\n",
    "train = np.loadtxt('./p1_train.csv', delimiter=',', skiprows=1) \n",
    "\n",
    "# Load the test data\n",
    "test = np.loadtxt('./p1_test.csv', delimiter=',', skiprows=1)"
   ]
  },
  {
   "cell_type": "code",
   "execution_count": 3,
   "id": "5c4dff8a",
   "metadata": {},
   "outputs": [],
   "source": [
    "# Storing train and test data and dividing them into input and target variables\n",
    "X_train, y_train = train[:, :-1], train[:, -1]  # input features and target variable\n",
    "X_test, y_test = test[:, :-1], test[:, -1]  # input features and target variable"
   ]
  },
  {
   "cell_type": "markdown",
   "id": "7fa823fd",
   "metadata": {},
   "source": [
    "# Linear Regression by steepest descent method"
   ]
  },
  {
   "cell_type": "code",
   "execution_count": 4,
   "id": "51e51a8c",
   "metadata": {},
   "outputs": [],
   "source": [
    "weight_vector=np.random.randn(X_train.shape[1])\n",
    "intercept = 0 \n",
    "alpha = 0.001 # learning rate\n",
    "epoch = 5000 # no of iterations"
   ]
  },
  {
   "cell_type": "code",
   "execution_count": 5,
   "id": "876f1980",
   "metadata": {},
   "outputs": [],
   "source": [
    "# to calculate the loss\n",
    "def loss(y,y_predicted):  \n",
    "    n=len(y)\n",
    "    s=0\n",
    "    for i in range(n):\n",
    "        s+=(y[i]-y_predicted[i])**2\n",
    "    return (1/n)*s"
   ]
  },
  {
   "cell_type": "code",
   "execution_count": 6,
   "id": "7536ffba",
   "metadata": {},
   "outputs": [],
   "source": [
    "# code for \"wx+b\"\n",
    "def predicted_y(weight,x,intercept):\n",
    "    y_lst=[]\n",
    "    for i in range(len(x)):\n",
    "        y_lst.append(weight@x[i]+intercept) #dot product between weight and input\n",
    "    return np.array(y_lst)"
   ]
  },
  {
   "cell_type": "code",
   "execution_count": 7,
   "id": "73ed16a9",
   "metadata": {},
   "outputs": [],
   "source": [
    "#derivative of loss w.r.t weight\n",
    "def dldw(x,y,y_predicted):\n",
    "    s=0\n",
    "    n=len(y)\n",
    "    for i in range(n):\n",
    "        s+=-x[i]*(y[i]-y_predicted[i])\n",
    "    return (2/n)*s"
   ]
  },
  {
   "cell_type": "code",
   "execution_count": 8,
   "id": "b24de3a4",
   "metadata": {},
   "outputs": [],
   "source": [
    "# derivative of loss w.r.t bias\n",
    "def dldb(y,y_predicted):\n",
    "    n=len(y)\n",
    "    s=0\n",
    "    for i in range(len(y)):\n",
    "        s+=-(y[i]-y_predicted[i])\n",
    "    return (2/n) * s"
   ]
  },
  {
   "cell_type": "code",
   "execution_count": 9,
   "id": "a66c00ae",
   "metadata": {},
   "outputs": [],
   "source": [
    "# calculating the weight/model parameters values through our train data\n",
    "for i in range(epoch):\n",
    "     y_predicted = predicted_y(weight_vector,X_train,intercept)\n",
    "     weight_vector = weight_vector - alpha *dldw(X_train,y_train,y_predicted)  #update weight\n",
    "     intercept = intercept - alpha * dldb(y_train,y_predicted)    #update bias"
   ]
  },
  {
   "cell_type": "code",
   "execution_count": 10,
   "id": "aec4a506",
   "metadata": {},
   "outputs": [
    {
     "name": "stdout",
     "output_type": "stream",
     "text": [
      "Intercept: 2.978481429168462 Model Parameters: [-1.99966988 -0.99729939]\n"
     ]
    }
   ],
   "source": [
    "# My model parameters\n",
    "print(f\"Intercept: {intercept} Model Parameters: {weight_vector}\")"
   ]
  },
  {
   "cell_type": "code",
   "execution_count": 11,
   "id": "d0f402a3",
   "metadata": {},
   "outputs": [],
   "source": [
    "# predicting on my test data by passing the parameters and storing it in y_new variable\n",
    "y_new = predicted_y(weight_vector.tolist(),X_test,intercept)"
   ]
  },
  {
   "cell_type": "code",
   "execution_count": 12,
   "id": "90fb01a1",
   "metadata": {},
   "outputs": [],
   "source": [
    "# function to get errors and p-value\n",
    "def errors(predictions, y_test):\n",
    "\n",
    "    #calculating mean absolute error\n",
    "    MAE = np.mean(np.abs(predictions - y_test))\n",
    "\n",
    "    #calculating root mean square error\n",
    "    MSE = np.square(np.subtract(y_test,predictions)).mean() \n",
    "\n",
    "    # calculating p-value\n",
    "    n = y_test.shape[0]\n",
    "    df = n - X_test.shape[1]  # degrees of freedom\n",
    "    se = np.sqrt(np.sum((predictions - y_test) ** 2) / df)\n",
    "    t = (predictions - y_test) / se\n",
    "    p = 2 * (1 - stats.t.cdf(np.abs(t), df))\n",
    "    \n",
    "    \n",
    "    return MAE, MSE, p[0]"
   ]
  },
  {
   "cell_type": "code",
   "execution_count": 13,
   "id": "fd6afc86",
   "metadata": {},
   "outputs": [
    {
     "name": "stdout",
     "output_type": "stream",
     "text": [
      "Mean Absolute Error: 1.7998114655970894\n",
      "Mean Squared Error: 5.049788530263382\n",
      "p-value: 0.19940008389744923\n"
     ]
    }
   ],
   "source": [
    "mae, mse, p = errors(y_new, y_test)\n",
    "print(\"Mean Absolute Error:\", mae)\n",
    "print(\"Mean Squared Error:\", mse)\n",
    "print(\"p-value:\", p)"
   ]
  },
  {
   "cell_type": "code",
   "execution_count": 14,
   "id": "23f6b987",
   "metadata": {},
   "outputs": [
    {
     "data": {
      "image/png": "[encoded data removed]",
      "text/plain": [
       "<Figure size 640x480 with 1 Axes>"
      ]
     },
     "metadata": {},
     "output_type": "display_data"
    }
   ],
   "source": [
    "# Plot the predicted values against the true values on a scatter plot\n",
    "plt.scatter(y_test, y_new, color = 'orange')\n",
    "plt.xlabel('True Y', color = \"red\")\n",
    "plt.ylabel('Predicted Y',color = \"green\")\n",
    "plt.show()"
   ]
  },
  {
   "cell_type": "markdown",
   "id": "20f8b1e4",
   "metadata": {},
   "source": [
    "# Linear Regression by Normal Equation"
   ]
  },
  {
   "cell_type": "code",
   "execution_count": 15,
   "id": "0f7c2994",
   "metadata": {},
   "outputs": [],
   "source": [
    "# using normal equation to get parameters\n",
    "def normal_equation(X_train, y_train):\n",
    "    X_train = np.hstack((np.ones((X_train.shape[0], 1)), X_train))\n",
    "    parameters = np.linalg.inv(X_train.T @ X_train) @ X_train.T @ y_train\n",
    "    return parameters"
   ]
  },
  {
   "cell_type": "code",
   "execution_count": 16,
   "id": "f60b3aee",
   "metadata": {},
   "outputs": [],
   "source": [
    "# predicting \n",
    "def predict(X_test, parameters):\n",
    "    X_test = np.hstack((np.ones((X_test.shape[0], 1)), X_test))\n",
    "    y_pred = X_test @ theta\n",
    "    return y_pred"
   ]
  },
  {
   "cell_type": "code",
   "execution_count": 19,
   "id": "fb852b80",
   "metadata": {},
   "outputs": [
    {
     "name": "stdout",
     "output_type": "stream",
     "text": [
      "[ 2.97861551 -1.99966977 -0.99729949]\n"
     ]
    }
   ],
   "source": [
    "# passing values in our function\n",
    "theta = normal_equation(X_train, y_train)\n",
    "y_pred = predict(X_test, theta)\n",
    "print(theta)"
   ]
  },
  {
   "cell_type": "code",
   "execution_count": 20,
   "id": "a28bfeb7",
   "metadata": {},
   "outputs": [
    {
     "name": "stdout",
     "output_type": "stream",
     "text": [
      "Mean Absolute Error:  1.7998085941558195\n",
      "Mean Square Error:  5.049771909355411\n",
      "p-value:  0.19942032495817652\n"
     ]
    }
   ],
   "source": [
    "mae, mse, p = errors(y_pred, y_test)\n",
    "print(\"Mean Absolute Error: \", mae)\n",
    "print(\"Mean Square Error: \", mse)\n",
    "print(\"p-value: \", p)"
   ]
  },
  {
   "cell_type": "code",
   "execution_count": 21,
   "id": "f6c663db",
   "metadata": {},
   "outputs": [
    {
     "data": {
      "image/png": "[encoded data removed]",
      "text/plain": [
       "<Figure size 640x480 with 1 Axes>"
      ]
     },
     "metadata": {},
     "output_type": "display_data"
    }
   ],
   "source": [
    "# Plot the predicted values against the true values on a scatter plot\n",
    "plt.scatter(y_test, y_pred, color = \"purple\")\n",
    "plt.xlabel('True Y', color = \"red\")\n",
    "plt.ylabel('Predicted Y',color = \"green\")\n",
    "plt.show()"
   ]
  },
  {
   "cell_type": "code",
   "execution_count": null,
   "id": "283fb4ea",
   "metadata": {},
   "outputs": [],
   "source": []
  }
 ],
 "metadata": {
  "kernelspec": {
   "display_name": "Python 3 (ipykernel)",
   "language": "python",
   "name": "python3"
  },
  "language_info": {
   "codemirror_mode": {
    "name": "ipython",
    "version": 3
   },
   "file_extension": ".py",
   "mimetype": "text/x-python",
   "name": "python",
   "nbconvert_exporter": "python",
   "pygments_lexer": "ipython3",
   "version": "3.11.1"
  }
 },
 "nbformat": 4,
 "nbformat_minor": 5
}
